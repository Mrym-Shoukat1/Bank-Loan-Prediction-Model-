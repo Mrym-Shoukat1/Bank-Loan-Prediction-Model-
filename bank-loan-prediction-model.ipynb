{
 "cells": [
  {
   "cell_type": "markdown",
   "id": "c97ca395",
   "metadata": {
    "_cell_guid": "b1076dfc-b9ad-4769-8c92-a6c4dae69d19",
    "_uuid": "8f2839f25d086af736a60e9eeb907d3b93b6e0e5",
    "execution": {
     "iopub.execute_input": "2025-01-18T17:10:34.939284Z",
     "iopub.status.busy": "2025-01-18T17:10:34.938766Z",
     "iopub.status.idle": "2025-01-18T17:10:34.951748Z",
     "shell.execute_reply": "2025-01-18T17:10:34.949712Z",
     "shell.execute_reply.started": "2025-01-18T17:10:34.939246Z"
    },
    "papermill": {
     "duration": 0.007997,
     "end_time": "2025-01-18T17:20:55.281454",
     "exception": false,
     "start_time": "2025-01-18T17:20:55.273457",
     "status": "completed"
    },
    "tags": []
   },
   "source": [
    "<div style=\"border-radius: 20px; border: 2px solid #64B5F6; padding: 15px; background-color: #87CEEB; text-align: center; box-shadow: 0px 4px 8px rgba(0, 0, 0, 0.4), 0px 6px 20px rgba(0, 0, 0, 0.19); transform: perspective(1000px) rotateX(5deg) rotateY(-5deg); transition: transform 0.5s ease-in-out;\">\n",
    "    <h1 style=\"color: black; text-shadow: 2px 2px 4px rgba(0, 0, 0, 0.4); font-weight: bold; margin-bottom: 10px; font-size: 32px;\">\n",
    "        Welcome!\n",
    "    </h1>\n",
    "    <p style=\"color: black; font-size: 18px; margin: 10px 0;\">\n",
    "        Hi there! I'm Maryam Fatima, a dedicated Data Analyst in training. I'm deeply immersed in the world of AI, exploring various concepts and techniques to enhance my skills. Join me on this exciting journey as we learn and grow together in the field of AI.\n",
    "    </p>\n",
    "    <p style=\"color: black; font-size: 16px; font-style: italic; margin: 10px 0;\">\n",
    "        \"Community empowers growth through shared knowledge and mutual support.\"\n",
    "    </p>\n",
    "    <h2 style=\"color: black; margin-top: 15px; font-size: 28px;\">Contact Information</h2>\n",
    "    <table style=\"width: 100%; margin-top: 15px; border-collapse: collapse;\">\n",
    "        <tr>\n",
    "            <th style=\"color: black; font-size: 18px; padding: 8px; border-bottom: 2px solid #64B5F6;\">Name</th>\n",
    "            <th style=\"color: black; font-size: 18px; padding: 8px; border-bottom: 2px solid #64B5F6;\">Email</th>\n",
    "            <th style=\"color: black; font-size: 18px; padding: 8px; border-bottom: 2px solid #64B5F6;\">LinkedIn</th>\n",
    "            <th style=\"color: black; font-size: 18px; padding: 8px; border-bottom: 2px solid #64B5F6;\">GitHub</th>\n",
    "            <th style=\"color: black; font-size: 18px; padding: 8px; border-bottom: 2px solid #64B5F6;\">Kaggle</th>\n",
    "        </tr>\n",
    "        <tr>\n",
    "            <td style=\"font-size: 16px; padding: 8px; color: black;\">Maryam Fatima</td>\n",
    "            <td style=\"font-size: 16px; padding: 8px; color: black;\">mustafashoukat.ai@gmail.com</td>\n",
    "            <td style=\"font-size: 16px; padding: 8px;\">\n",
    "                <a href=\"https://www.linkedin.com/in/mustafashoukat/\" target=\"_blank\">\n",
    "                    <img src=\"https://img.shields.io/badge/LinkedIn-0e76a8.svg?style=for-the-badge&logo=LinkedIn&logoColor=white\" alt=\"LinkedIn Badge\" style=\"border-radius: 5px;\">\n",
    "                </a>\n",
    "            </td>\n",
    "            <td style=\"font-size: 16px; padding: 8px;\">\n",
    "                <a href=\"https://github.com/Mustafa-Shoukat1\" target=\"_blank\">\n",
    "                    <img src=\"https://img.shields.io/badge/GitHub-171515.svg?style=for-the-badge&logo=GitHub&logoColor=white\" alt=\"GitHub Badge\" style=\"border-radius: 5px;\">\n",
    "                </a>\n",
    "            </td>\n",
    "            <td style=\"font-size: 16px; padding: 8px;\">\n",
    "                <a href=\"https://www.kaggle.com/mustafashoukat\" target=\"_blank\">\n",
    "                    <img src=\"https://img.shields.io/badge/Kaggle-20beff.svg?style=for-the-badge&logo=Kaggle&logoColor=white\" alt=\"Kaggle Badge\" style=\"border-radius: 5px; margin: 0 5px;\">\n",
    "                </a>\n",
    "            </td>\n",
    "        </tr>\n",
    "    </table>\n",
    "</div>\n"
   ]
  },
  {
   "cell_type": "code",
   "execution_count": 1,
   "id": "93882bb7",
   "metadata": {
    "execution": {
     "iopub.execute_input": "2025-01-18T17:20:55.296408Z",
     "iopub.status.busy": "2025-01-18T17:20:55.296000Z",
     "iopub.status.idle": "2025-01-18T17:20:56.226544Z",
     "shell.execute_reply": "2025-01-18T17:20:56.224957Z"
    },
    "papermill": {
     "duration": 0.940809,
     "end_time": "2025-01-18T17:20:56.229026",
     "exception": false,
     "start_time": "2025-01-18T17:20:55.288217",
     "status": "completed"
    },
    "tags": []
   },
   "outputs": [
    {
     "name": "stdout",
     "output_type": "stream",
     "text": [
      "/kaggle/input/machine-learning/lending_club_loan_dataset.csv\n"
     ]
    }
   ],
   "source": [
    "# This Python 3 environment comes with many helpful analytics libraries installed\n",
    "# It is defined by the kaggle/python Docker image: https://github.com/kaggle/docker-python\n",
    "# For example, here's several helpful packages to load\n",
    "\n",
    "import numpy as np # linear algebra\n",
    "import pandas as pd # data processing, CSV file I/O (e.g. pd.read_csv)\n",
    "\n",
    "# Input data files are available in the read-only \"../input/\" directory\n",
    "# For example, running this (by clicking run or pressing Shift+Enter) will list all files under the input directory\n",
    "\n",
    "import os\n",
    "for dirname, _, filenames in os.walk('/kaggle/input'):\n",
    "    for filename in filenames:\n",
    "        print(os.path.join(dirname, filename))\n",
    "\n",
    "# You can write up to 20GB to the current directory (/kaggle/working/) that gets preserved as output when you create a version using \"Save & Run All\" \n",
    "# You can also write temporary files to /kaggle/temp/, but they won't be saved outside of the current session"
   ]
  },
  {
   "cell_type": "markdown",
   "id": "8de4bbe4",
   "metadata": {
    "papermill": {
     "duration": 0.008145,
     "end_time": "2025-01-18T17:20:56.248779",
     "exception": false,
     "start_time": "2025-01-18T17:20:56.240634",
     "status": "completed"
    },
    "tags": []
   },
   "source": [
    "## Import the Libraries"
   ]
  },
  {
   "cell_type": "code",
   "execution_count": 2,
   "id": "c13a9e1e",
   "metadata": {
    "execution": {
     "iopub.execute_input": "2025-01-18T17:20:56.263415Z",
     "iopub.status.busy": "2025-01-18T17:20:56.262915Z",
     "iopub.status.idle": "2025-01-18T17:20:58.816650Z",
     "shell.execute_reply": "2025-01-18T17:20:58.815354Z"
    },
    "papermill": {
     "duration": 2.563362,
     "end_time": "2025-01-18T17:20:58.818665",
     "exception": false,
     "start_time": "2025-01-18T17:20:56.255303",
     "status": "completed"
    },
    "tags": []
   },
   "outputs": [],
   "source": [
    "import pandas as pd\n",
    "import numpy as np\n",
    "import seaborn as sns\n",
    "import matplotlib.pyplot as plt\n",
    "from sklearn.impute import SimpleImputer\n",
    "from sklearn.preprocessing import OrdinalEncoder, OneHotEncoder\n",
    "from sklearn.preprocessing import LabelEncoder\n",
    "from sklearn.model_selection import train_test_split\n",
    "from sklearn.metrics import accuracy_score, confusion_matrix\n",
    "from sklearn.compose import ColumnTransformer\n",
    "from sklearn.preprocessing import FunctionTransformer\n",
    "from sklearn.pipeline import Pipeline\n",
    "from sklearn.model_selection import learning_curve\n",
    "from sklearn.ensemble import GradientBoostingClassifier\n",
    "from sklearn.decomposition import PCA\n",
    "from sklearn.preprocessing import StandardScaler\n",
    "from sklearn.linear_model import LogisticRegression"
   ]
  },
  {
   "cell_type": "markdown",
   "id": "2bb96daa",
   "metadata": {
    "papermill": {
     "duration": 0.005905,
     "end_time": "2025-01-18T17:20:58.831058",
     "exception": false,
     "start_time": "2025-01-18T17:20:58.825153",
     "status": "completed"
    },
    "tags": []
   },
   "source": [
    "## Load the dataset"
   ]
  },
  {
   "cell_type": "code",
   "execution_count": 3,
   "id": "ac3b6ac6",
   "metadata": {
    "execution": {
     "iopub.execute_input": "2025-01-18T17:20:58.844989Z",
     "iopub.status.busy": "2025-01-18T17:20:58.844428Z",
     "iopub.status.idle": "2025-01-18T17:20:58.972605Z",
     "shell.execute_reply": "2025-01-18T17:20:58.971406Z"
    },
    "papermill": {
     "duration": 0.137273,
     "end_time": "2025-01-18T17:20:58.974445",
     "exception": false,
     "start_time": "2025-01-18T17:20:58.837172",
     "status": "completed"
    },
    "tags": []
   },
   "outputs": [
    {
     "data": {
      "text/html": [
       "<div>\n",
       "<style scoped>\n",
       "    .dataframe tbody tr th:only-of-type {\n",
       "        vertical-align: middle;\n",
       "    }\n",
       "\n",
       "    .dataframe tbody tr th {\n",
       "        vertical-align: top;\n",
       "    }\n",
       "\n",
       "    .dataframe thead th {\n",
       "        text-align: right;\n",
       "    }\n",
       "</style>\n",
       "<table border=\"1\" class=\"dataframe\">\n",
       "  <thead>\n",
       "    <tr style=\"text-align: right;\">\n",
       "      <th></th>\n",
       "      <th>id</th>\n",
       "      <th>grade</th>\n",
       "      <th>annual_inc</th>\n",
       "      <th>short_emp</th>\n",
       "      <th>emp_length_num</th>\n",
       "      <th>home_ownership</th>\n",
       "      <th>dti</th>\n",
       "      <th>purpose</th>\n",
       "      <th>term</th>\n",
       "      <th>last_delinq_none</th>\n",
       "      <th>last_major_derog_none</th>\n",
       "      <th>revol_util</th>\n",
       "      <th>total_rec_late_fee</th>\n",
       "      <th>od_ratio</th>\n",
       "      <th>bad_loan</th>\n",
       "    </tr>\n",
       "  </thead>\n",
       "  <tbody>\n",
       "    <tr>\n",
       "      <th>11823</th>\n",
       "      <td>9216235</td>\n",
       "      <td>B</td>\n",
       "      <td>27500.0</td>\n",
       "      <td>0</td>\n",
       "      <td>8</td>\n",
       "      <td>NaN</td>\n",
       "      <td>10.04</td>\n",
       "      <td>debt_consolidation</td>\n",
       "      <td>36 months</td>\n",
       "      <td>0</td>\n",
       "      <td>1.0</td>\n",
       "      <td>73.7</td>\n",
       "      <td>0.0</td>\n",
       "      <td>0.274483</td>\n",
       "      <td>0</td>\n",
       "    </tr>\n",
       "    <tr>\n",
       "      <th>10200</th>\n",
       "      <td>8147706</td>\n",
       "      <td>B</td>\n",
       "      <td>107000.0</td>\n",
       "      <td>0</td>\n",
       "      <td>10</td>\n",
       "      <td>NaN</td>\n",
       "      <td>5.52</td>\n",
       "      <td>debt_consolidation</td>\n",
       "      <td>36 months</td>\n",
       "      <td>0</td>\n",
       "      <td>NaN</td>\n",
       "      <td>30.2</td>\n",
       "      <td>0.0</td>\n",
       "      <td>0.658406</td>\n",
       "      <td>0</td>\n",
       "    </tr>\n",
       "    <tr>\n",
       "      <th>9373</th>\n",
       "      <td>8637014</td>\n",
       "      <td>B</td>\n",
       "      <td>54000.0</td>\n",
       "      <td>0</td>\n",
       "      <td>11</td>\n",
       "      <td>RENT</td>\n",
       "      <td>21.23</td>\n",
       "      <td>debt_consolidation</td>\n",
       "      <td>36 months</td>\n",
       "      <td>1</td>\n",
       "      <td>NaN</td>\n",
       "      <td>14.0</td>\n",
       "      <td>0.0</td>\n",
       "      <td>0.598108</td>\n",
       "      <td>0</td>\n",
       "    </tr>\n",
       "    <tr>\n",
       "      <th>17828</th>\n",
       "      <td>6318415</td>\n",
       "      <td>E</td>\n",
       "      <td>76003.0</td>\n",
       "      <td>0</td>\n",
       "      <td>9</td>\n",
       "      <td>MORTGAGE</td>\n",
       "      <td>20.21</td>\n",
       "      <td>debt_consolidation</td>\n",
       "      <td>36 months</td>\n",
       "      <td>1</td>\n",
       "      <td>NaN</td>\n",
       "      <td>59.9</td>\n",
       "      <td>0.0</td>\n",
       "      <td>0.864701</td>\n",
       "      <td>0</td>\n",
       "    </tr>\n",
       "    <tr>\n",
       "      <th>17323</th>\n",
       "      <td>6208787</td>\n",
       "      <td>F</td>\n",
       "      <td>72000.0</td>\n",
       "      <td>1</td>\n",
       "      <td>1</td>\n",
       "      <td>MORTGAGE</td>\n",
       "      <td>15.85</td>\n",
       "      <td>debt_consolidation</td>\n",
       "      <td>60 months</td>\n",
       "      <td>1</td>\n",
       "      <td>NaN</td>\n",
       "      <td>66.7</td>\n",
       "      <td>0.0</td>\n",
       "      <td>0.025082</td>\n",
       "      <td>0</td>\n",
       "    </tr>\n",
       "  </tbody>\n",
       "</table>\n",
       "</div>"
      ],
      "text/plain": [
       "            id grade  annual_inc  short_emp  emp_length_num home_ownership  \\\n",
       "11823  9216235     B     27500.0          0               8            NaN   \n",
       "10200  8147706     B    107000.0          0              10            NaN   \n",
       "9373   8637014     B     54000.0          0              11           RENT   \n",
       "17828  6318415     E     76003.0          0               9       MORTGAGE   \n",
       "17323  6208787     F     72000.0          1               1       MORTGAGE   \n",
       "\n",
       "         dti             purpose        term  last_delinq_none  \\\n",
       "11823  10.04  debt_consolidation   36 months                 0   \n",
       "10200   5.52  debt_consolidation   36 months                 0   \n",
       "9373   21.23  debt_consolidation   36 months                 1   \n",
       "17828  20.21  debt_consolidation   36 months                 1   \n",
       "17323  15.85  debt_consolidation   60 months                 1   \n",
       "\n",
       "       last_major_derog_none  revol_util  total_rec_late_fee  od_ratio  \\\n",
       "11823                    1.0        73.7                 0.0  0.274483   \n",
       "10200                    NaN        30.2                 0.0  0.658406   \n",
       "9373                     NaN        14.0                 0.0  0.598108   \n",
       "17828                    NaN        59.9                 0.0  0.864701   \n",
       "17323                    NaN        66.7                 0.0  0.025082   \n",
       "\n",
       "       bad_loan  \n",
       "11823         0  \n",
       "10200         0  \n",
       "9373          0  \n",
       "17828         0  \n",
       "17323         0  "
      ]
     },
     "execution_count": 3,
     "metadata": {},
     "output_type": "execute_result"
    }
   ],
   "source": [
    "df = pd.read_csv(\"/kaggle/input/machine-learning/lending_club_loan_dataset.csv\")\n",
    "df.sample(5)"
   ]
  },
  {
   "cell_type": "markdown",
   "id": "cf796306",
   "metadata": {
    "papermill": {
     "duration": 0.006951,
     "end_time": "2025-01-18T17:20:58.988078",
     "exception": false,
     "start_time": "2025-01-18T17:20:58.981127",
     "status": "completed"
    },
    "tags": []
   },
   "source": [
    "## proformed EDA"
   ]
  },
  {
   "cell_type": "code",
   "execution_count": 4,
   "id": "e24a1003",
   "metadata": {
    "execution": {
     "iopub.execute_input": "2025-01-18T17:20:59.003266Z",
     "iopub.status.busy": "2025-01-18T17:20:59.002912Z",
     "iopub.status.idle": "2025-01-18T17:20:59.009020Z",
     "shell.execute_reply": "2025-01-18T17:20:59.007867Z"
    },
    "papermill": {
     "duration": 0.015622,
     "end_time": "2025-01-18T17:20:59.010756",
     "exception": false,
     "start_time": "2025-01-18T17:20:58.995134",
     "status": "completed"
    },
    "tags": []
   },
   "outputs": [
    {
     "data": {
      "text/plain": [
       "(20000, 15)"
      ]
     },
     "execution_count": 4,
     "metadata": {},
     "output_type": "execute_result"
    }
   ],
   "source": [
    "df.shape"
   ]
  },
  {
   "cell_type": "code",
   "execution_count": 5,
   "id": "9458cab7",
   "metadata": {
    "execution": {
     "iopub.execute_input": "2025-01-18T17:20:59.025785Z",
     "iopub.status.busy": "2025-01-18T17:20:59.025398Z",
     "iopub.status.idle": "2025-01-18T17:20:59.048391Z",
     "shell.execute_reply": "2025-01-18T17:20:59.047009Z"
    },
    "papermill": {
     "duration": 0.032755,
     "end_time": "2025-01-18T17:20:59.050450",
     "exception": false,
     "start_time": "2025-01-18T17:20:59.017695",
     "status": "completed"
    },
    "tags": []
   },
   "outputs": [
    {
     "data": {
      "text/html": [
       "<div>\n",
       "<style scoped>\n",
       "    .dataframe tbody tr th:only-of-type {\n",
       "        vertical-align: middle;\n",
       "    }\n",
       "\n",
       "    .dataframe tbody tr th {\n",
       "        vertical-align: top;\n",
       "    }\n",
       "\n",
       "    .dataframe thead th {\n",
       "        text-align: right;\n",
       "    }\n",
       "</style>\n",
       "<table border=\"1\" class=\"dataframe\">\n",
       "  <thead>\n",
       "    <tr style=\"text-align: right;\">\n",
       "      <th></th>\n",
       "      <th>grade</th>\n",
       "      <th>annual_inc</th>\n",
       "      <th>emp_length_num</th>\n",
       "      <th>home_ownership</th>\n",
       "      <th>dti</th>\n",
       "      <th>purpose</th>\n",
       "      <th>last_delinq_none</th>\n",
       "      <th>revol_util</th>\n",
       "      <th>bad_loan</th>\n",
       "    </tr>\n",
       "  </thead>\n",
       "  <tbody>\n",
       "    <tr>\n",
       "      <th>0</th>\n",
       "      <td>A</td>\n",
       "      <td>100000.0</td>\n",
       "      <td>1</td>\n",
       "      <td>RENT</td>\n",
       "      <td>26.27</td>\n",
       "      <td>credit_card</td>\n",
       "      <td>1</td>\n",
       "      <td>43.2</td>\n",
       "      <td>0</td>\n",
       "    </tr>\n",
       "    <tr>\n",
       "      <th>1</th>\n",
       "      <td>A</td>\n",
       "      <td>83000.0</td>\n",
       "      <td>4</td>\n",
       "      <td>OWN</td>\n",
       "      <td>5.39</td>\n",
       "      <td>credit_card</td>\n",
       "      <td>0</td>\n",
       "      <td>21.5</td>\n",
       "      <td>0</td>\n",
       "    </tr>\n",
       "    <tr>\n",
       "      <th>2</th>\n",
       "      <td>D</td>\n",
       "      <td>78000.0</td>\n",
       "      <td>11</td>\n",
       "      <td>MORTGAGE</td>\n",
       "      <td>18.45</td>\n",
       "      <td>debt_consolidation</td>\n",
       "      <td>1</td>\n",
       "      <td>46.3</td>\n",
       "      <td>1</td>\n",
       "    </tr>\n",
       "  </tbody>\n",
       "</table>\n",
       "</div>"
      ],
      "text/plain": [
       "  grade  annual_inc  emp_length_num home_ownership    dti             purpose  \\\n",
       "0     A    100000.0               1           RENT  26.27         credit_card   \n",
       "1     A     83000.0               4            OWN   5.39         credit_card   \n",
       "2     D     78000.0              11       MORTGAGE  18.45  debt_consolidation   \n",
       "\n",
       "   last_delinq_none  revol_util  bad_loan  \n",
       "0                 1        43.2         0  \n",
       "1                 0        21.5         0  \n",
       "2                 1        46.3         1  "
      ]
     },
     "execution_count": 5,
     "metadata": {},
     "output_type": "execute_result"
    }
   ],
   "source": [
    "# List of important columns and the target column\n",
    "important_columns = [\n",
    "    \"grade\",\n",
    "    \"annual_inc\",\n",
    "    \"emp_length_num\",\n",
    "    \"home_ownership\",\n",
    "    \"dti\",\n",
    "    \"purpose\",\n",
    "    \"last_delinq_none\",\n",
    "    \"revol_util\",\n",
    "    \"bad_loan\"  # Target column\n",
    "]\n",
    "\n",
    "# Filter the dataset to keep only the important columns\n",
    "df_filter = df[important_columns]\n",
    "\n",
    "# Display the filtered dataset\n",
    "df_filter.head(3)\n"
   ]
  },
  {
   "cell_type": "code",
   "execution_count": 6,
   "id": "3880b693",
   "metadata": {
    "_kg_hide-input": true,
    "execution": {
     "iopub.execute_input": "2025-01-18T17:20:59.066628Z",
     "iopub.status.busy": "2025-01-18T17:20:59.066214Z",
     "iopub.status.idle": "2025-01-18T17:20:59.072461Z",
     "shell.execute_reply": "2025-01-18T17:20:59.071525Z"
    },
    "papermill": {
     "duration": 0.016075,
     "end_time": "2025-01-18T17:20:59.074284",
     "exception": false,
     "start_time": "2025-01-18T17:20:59.058209",
     "status": "completed"
    },
    "tags": []
   },
   "outputs": [
    {
     "data": {
      "text/plain": [
       "(20000, 9)"
      ]
     },
     "execution_count": 6,
     "metadata": {},
     "output_type": "execute_result"
    }
   ],
   "source": [
    "df_filter.shape"
   ]
  },
  {
   "cell_type": "code",
   "execution_count": 7,
   "id": "439e5c98",
   "metadata": {
    "execution": {
     "iopub.execute_input": "2025-01-18T17:20:59.089875Z",
     "iopub.status.busy": "2025-01-18T17:20:59.089444Z",
     "iopub.status.idle": "2025-01-18T17:20:59.113240Z",
     "shell.execute_reply": "2025-01-18T17:20:59.111749Z"
    },
    "papermill": {
     "duration": 0.034525,
     "end_time": "2025-01-18T17:20:59.115782",
     "exception": false,
     "start_time": "2025-01-18T17:20:59.081257",
     "status": "completed"
    },
    "tags": []
   },
   "outputs": [
    {
     "name": "stdout",
     "output_type": "stream",
     "text": [
      "<class 'pandas.core.frame.DataFrame'>\n",
      "RangeIndex: 20000 entries, 0 to 19999\n",
      "Data columns (total 9 columns):\n",
      " #   Column            Non-Null Count  Dtype  \n",
      "---  ------            --------------  -----  \n",
      " 0   grade             20000 non-null  object \n",
      " 1   annual_inc        20000 non-null  float64\n",
      " 2   emp_length_num    20000 non-null  int64  \n",
      " 3   home_ownership    18509 non-null  object \n",
      " 4   dti               19846 non-null  float64\n",
      " 5   purpose           20000 non-null  object \n",
      " 6   last_delinq_none  20000 non-null  int64  \n",
      " 7   revol_util        20000 non-null  float64\n",
      " 8   bad_loan          20000 non-null  int64  \n",
      "dtypes: float64(3), int64(3), object(3)\n",
      "memory usage: 1.4+ MB\n"
     ]
    }
   ],
   "source": [
    "df_filter.info()"
   ]
  },
  {
   "cell_type": "code",
   "execution_count": 8,
   "id": "4d6d23b7",
   "metadata": {
    "execution": {
     "iopub.execute_input": "2025-01-18T17:20:59.131246Z",
     "iopub.status.busy": "2025-01-18T17:20:59.130911Z",
     "iopub.status.idle": "2025-01-18T17:20:59.142881Z",
     "shell.execute_reply": "2025-01-18T17:20:59.141557Z"
    },
    "papermill": {
     "duration": 0.021813,
     "end_time": "2025-01-18T17:20:59.144838",
     "exception": false,
     "start_time": "2025-01-18T17:20:59.123025",
     "status": "completed"
    },
    "tags": []
   },
   "outputs": [
    {
     "data": {
      "text/plain": [
       "grade               0.000\n",
       "annual_inc          0.000\n",
       "emp_length_num      0.000\n",
       "home_ownership      7.455\n",
       "dti                 0.770\n",
       "purpose             0.000\n",
       "last_delinq_none    0.000\n",
       "revol_util          0.000\n",
       "bad_loan            0.000\n",
       "dtype: float64"
      ]
     },
     "execution_count": 8,
     "metadata": {},
     "output_type": "execute_result"
    }
   ],
   "source": [
    "df_filter.isnull().mean()* 100"
   ]
  },
  {
   "cell_type": "markdown",
   "id": "12d70442",
   "metadata": {
    "papermill": {
     "duration": 0.006739,
     "end_time": "2025-01-18T17:20:59.159189",
     "exception": false,
     "start_time": "2025-01-18T17:20:59.152450",
     "status": "completed"
    },
    "tags": []
   },
   "source": [
    "## Remove the missing Values"
   ]
  },
  {
   "cell_type": "code",
   "execution_count": 9,
   "id": "f93c4cda",
   "metadata": {
    "execution": {
     "iopub.execute_input": "2025-01-18T17:20:59.174639Z",
     "iopub.status.busy": "2025-01-18T17:20:59.174258Z",
     "iopub.status.idle": "2025-01-18T17:20:59.182914Z",
     "shell.execute_reply": "2025-01-18T17:20:59.181781Z"
    },
    "papermill": {
     "duration": 0.018632,
     "end_time": "2025-01-18T17:20:59.184893",
     "exception": false,
     "start_time": "2025-01-18T17:20:59.166261",
     "status": "completed"
    },
    "tags": []
   },
   "outputs": [
    {
     "name": "stderr",
     "output_type": "stream",
     "text": [
      "<ipython-input-9-a387acc7d0ac>:1: SettingWithCopyWarning: \n",
      "A value is trying to be set on a copy of a slice from a DataFrame\n",
      "\n",
      "See the caveats in the documentation: https://pandas.pydata.org/pandas-docs/stable/user_guide/indexing.html#returning-a-view-versus-a-copy\n",
      "  df_filter['dti'].fillna(df_filter['dti'].median(), inplace=True)\n"
     ]
    }
   ],
   "source": [
    "df_filter['dti'].fillna(df_filter['dti'].median(), inplace=True)"
   ]
  },
  {
   "cell_type": "code",
   "execution_count": 10,
   "id": "0ebe11f3",
   "metadata": {
    "execution": {
     "iopub.execute_input": "2025-01-18T17:20:59.200526Z",
     "iopub.status.busy": "2025-01-18T17:20:59.200199Z",
     "iopub.status.idle": "2025-01-18T17:20:59.217068Z",
     "shell.execute_reply": "2025-01-18T17:20:59.215593Z"
    },
    "papermill": {
     "duration": 0.026414,
     "end_time": "2025-01-18T17:20:59.218622",
     "exception": false,
     "start_time": "2025-01-18T17:20:59.192208",
     "status": "completed"
    },
    "tags": []
   },
   "outputs": [
    {
     "name": "stderr",
     "output_type": "stream",
     "text": [
      "<ipython-input-10-8c3472073333>:1: SettingWithCopyWarning: \n",
      "A value is trying to be set on a copy of a slice from a DataFrame\n",
      "\n",
      "See the caveats in the documentation: https://pandas.pydata.org/pandas-docs/stable/user_guide/indexing.html#returning-a-view-versus-a-copy\n",
      "  df_filter['home_ownership'].fillna(df_filter['home_ownership'].mode()[0], inplace=True)\n"
     ]
    },
    {
     "data": {
      "text/plain": [
       "grade               0\n",
       "annual_inc          0\n",
       "emp_length_num      0\n",
       "home_ownership      0\n",
       "dti                 0\n",
       "purpose             0\n",
       "last_delinq_none    0\n",
       "revol_util          0\n",
       "bad_loan            0\n",
       "dtype: int64"
      ]
     },
     "execution_count": 10,
     "metadata": {},
     "output_type": "execute_result"
    }
   ],
   "source": [
    "df_filter['home_ownership'].fillna(df_filter['home_ownership'].mode()[0], inplace=True)\n",
    "\n",
    "\n",
    "# Display the updated DataFrame\n",
    "df_filter.isnull().sum()"
   ]
  },
  {
   "cell_type": "markdown",
   "id": "da81748e",
   "metadata": {
    "papermill": {
     "duration": 0.006799,
     "end_time": "2025-01-18T17:20:59.232782",
     "exception": false,
     "start_time": "2025-01-18T17:20:59.225983",
     "status": "completed"
    },
    "tags": []
   },
   "source": [
    "## Scaling "
   ]
  },
  {
   "cell_type": "code",
   "execution_count": 11,
   "id": "490eae99",
   "metadata": {
    "execution": {
     "iopub.execute_input": "2025-01-18T17:20:59.249219Z",
     "iopub.status.busy": "2025-01-18T17:20:59.248816Z",
     "iopub.status.idle": "2025-01-18T17:20:59.269654Z",
     "shell.execute_reply": "2025-01-18T17:20:59.267894Z"
    },
    "papermill": {
     "duration": 0.031683,
     "end_time": "2025-01-18T17:20:59.271794",
     "exception": false,
     "start_time": "2025-01-18T17:20:59.240111",
     "status": "completed"
    },
    "tags": []
   },
   "outputs": [
    {
     "name": "stdout",
     "output_type": "stream",
     "text": [
      "      grade  annual_inc  emp_length_num home_ownership       dti  \\\n",
      "0         A    0.589645       -1.542446           RENT  1.281718   \n",
      "1         A    0.213517       -0.747562            OWN -1.481488   \n",
      "2         D    0.102891        1.107167       MORTGAGE  0.246839   \n",
      "3         D   -0.792381       -0.217639       MORTGAGE -0.569683   \n",
      "4         D   -0.184736        1.107167       MORTGAGE -0.704668   \n",
      "...     ...         ...             ...            ...       ...   \n",
      "19995     B   -1.025491        0.577245           RENT  0.234928   \n",
      "19996     B   -0.627239       -1.277484       MORTGAGE  0.878088   \n",
      "19997     B    0.678145       -0.482601       MORTGAGE -0.438669   \n",
      "19998     A   -0.773265       -1.277484       MORTGAGE -0.495574   \n",
      "19999     B    1.695902        1.107167       MORTGAGE -1.903645   \n",
      "\n",
      "                  purpose  last_delinq_none  revol_util  bad_loan  \n",
      "0             credit_card                 1   -0.302926         0  \n",
      "1             credit_card                 0   -0.818165         0  \n",
      "2      debt_consolidation                 1   -0.229320         1  \n",
      "3                 medical                 0   -1.074597         1  \n",
      "4      debt_consolidation                 0   -0.967750         0  \n",
      "...                   ...               ...         ...       ...  \n",
      "19995  debt_consolidation                 1   -0.224572         1  \n",
      "19996      major_purchase                 0   -0.231695         0  \n",
      "19997  debt_consolidation                 1    0.535227         0  \n",
      "19998  debt_consolidation                 0   -0.203202         0  \n",
      "19999         credit_card                 0   -0.362285         0  \n",
      "\n",
      "[20000 rows x 9 columns]\n"
     ]
    },
    {
     "name": "stderr",
     "output_type": "stream",
     "text": [
      "<ipython-input-11-05c38d7678f8>:6: SettingWithCopyWarning: \n",
      "A value is trying to be set on a copy of a slice from a DataFrame.\n",
      "Try using .loc[row_indexer,col_indexer] = value instead\n",
      "\n",
      "See the caveats in the documentation: https://pandas.pydata.org/pandas-docs/stable/user_guide/indexing.html#returning-a-view-versus-a-copy\n",
      "  df_filter[numerical_columns] = scaler.fit_transform(df_filter[numerical_columns])\n"
     ]
    }
   ],
   "source": [
    "# Selecting numerical columns\n",
    "numerical_columns = [\"annual_inc\", \"emp_length_num\", \"dti\", \"revol_util\"]\n",
    "\n",
    "# Applying StandardScaler\n",
    "scaler = StandardScaler()\n",
    "df_filter[numerical_columns] = scaler.fit_transform(df_filter[numerical_columns])\n",
    "\n",
    "# Display the updated DataFrame\n",
    "print(df_filter)"
   ]
  },
  {
   "cell_type": "markdown",
   "id": "2a626a5a",
   "metadata": {
    "papermill": {
     "duration": 0.007316,
     "end_time": "2025-01-18T17:20:59.286570",
     "exception": false,
     "start_time": "2025-01-18T17:20:59.279254",
     "status": "completed"
    },
    "tags": []
   },
   "source": [
    "## Encoding categorical variable using column transformer"
   ]
  },
  {
   "cell_type": "code",
   "execution_count": 12,
   "id": "8f4dec7d",
   "metadata": {
    "execution": {
     "iopub.execute_input": "2025-01-18T17:20:59.303953Z",
     "iopub.status.busy": "2025-01-18T17:20:59.303397Z",
     "iopub.status.idle": "2025-01-18T17:20:59.366120Z",
     "shell.execute_reply": "2025-01-18T17:20:59.364729Z"
    },
    "papermill": {
     "duration": 0.073391,
     "end_time": "2025-01-18T17:20:59.368051",
     "exception": false,
     "start_time": "2025-01-18T17:20:59.294660",
     "status": "completed"
    },
    "tags": []
   },
   "outputs": [
    {
     "data": {
      "text/html": [
       "<div>\n",
       "<style scoped>\n",
       "    .dataframe tbody tr th:only-of-type {\n",
       "        vertical-align: middle;\n",
       "    }\n",
       "\n",
       "    .dataframe tbody tr th {\n",
       "        vertical-align: top;\n",
       "    }\n",
       "\n",
       "    .dataframe thead th {\n",
       "        text-align: right;\n",
       "    }\n",
       "</style>\n",
       "<table border=\"1\" class=\"dataframe\">\n",
       "  <thead>\n",
       "    <tr style=\"text-align: right;\">\n",
       "      <th></th>\n",
       "      <th>grade</th>\n",
       "      <th>home_ownership_OWN</th>\n",
       "      <th>home_ownership_RENT</th>\n",
       "      <th>purpose_credit_card</th>\n",
       "      <th>purpose_debt_consolidation</th>\n",
       "      <th>purpose_home_improvement</th>\n",
       "      <th>purpose_house</th>\n",
       "      <th>purpose_major_purchase</th>\n",
       "      <th>purpose_medical</th>\n",
       "      <th>purpose_moving</th>\n",
       "      <th>purpose_other</th>\n",
       "      <th>purpose_small_business</th>\n",
       "      <th>purpose_vacation</th>\n",
       "      <th>purpose_wedding</th>\n",
       "      <th>annual_inc</th>\n",
       "      <th>emp_length_num</th>\n",
       "      <th>dti</th>\n",
       "      <th>last_delinq_none</th>\n",
       "      <th>revol_util</th>\n",
       "      <th>bad_loan</th>\n",
       "    </tr>\n",
       "  </thead>\n",
       "  <tbody>\n",
       "    <tr>\n",
       "      <th>0</th>\n",
       "      <td>0.0</td>\n",
       "      <td>0.0</td>\n",
       "      <td>1.0</td>\n",
       "      <td>1.0</td>\n",
       "      <td>0.0</td>\n",
       "      <td>0.0</td>\n",
       "      <td>0.0</td>\n",
       "      <td>0.0</td>\n",
       "      <td>0.0</td>\n",
       "      <td>0.0</td>\n",
       "      <td>0.0</td>\n",
       "      <td>0.0</td>\n",
       "      <td>0.0</td>\n",
       "      <td>0.0</td>\n",
       "      <td>0.589645</td>\n",
       "      <td>-1.542446</td>\n",
       "      <td>1.281718</td>\n",
       "      <td>1.0</td>\n",
       "      <td>-0.302926</td>\n",
       "      <td>0.0</td>\n",
       "    </tr>\n",
       "    <tr>\n",
       "      <th>1</th>\n",
       "      <td>0.0</td>\n",
       "      <td>1.0</td>\n",
       "      <td>0.0</td>\n",
       "      <td>1.0</td>\n",
       "      <td>0.0</td>\n",
       "      <td>0.0</td>\n",
       "      <td>0.0</td>\n",
       "      <td>0.0</td>\n",
       "      <td>0.0</td>\n",
       "      <td>0.0</td>\n",
       "      <td>0.0</td>\n",
       "      <td>0.0</td>\n",
       "      <td>0.0</td>\n",
       "      <td>0.0</td>\n",
       "      <td>0.213517</td>\n",
       "      <td>-0.747562</td>\n",
       "      <td>-1.481488</td>\n",
       "      <td>0.0</td>\n",
       "      <td>-0.818165</td>\n",
       "      <td>0.0</td>\n",
       "    </tr>\n",
       "    <tr>\n",
       "      <th>2</th>\n",
       "      <td>3.0</td>\n",
       "      <td>0.0</td>\n",
       "      <td>0.0</td>\n",
       "      <td>0.0</td>\n",
       "      <td>1.0</td>\n",
       "      <td>0.0</td>\n",
       "      <td>0.0</td>\n",
       "      <td>0.0</td>\n",
       "      <td>0.0</td>\n",
       "      <td>0.0</td>\n",
       "      <td>0.0</td>\n",
       "      <td>0.0</td>\n",
       "      <td>0.0</td>\n",
       "      <td>0.0</td>\n",
       "      <td>0.102891</td>\n",
       "      <td>1.107167</td>\n",
       "      <td>0.246839</td>\n",
       "      <td>1.0</td>\n",
       "      <td>-0.229320</td>\n",
       "      <td>1.0</td>\n",
       "    </tr>\n",
       "    <tr>\n",
       "      <th>3</th>\n",
       "      <td>3.0</td>\n",
       "      <td>0.0</td>\n",
       "      <td>0.0</td>\n",
       "      <td>0.0</td>\n",
       "      <td>0.0</td>\n",
       "      <td>0.0</td>\n",
       "      <td>0.0</td>\n",
       "      <td>0.0</td>\n",
       "      <td>1.0</td>\n",
       "      <td>0.0</td>\n",
       "      <td>0.0</td>\n",
       "      <td>0.0</td>\n",
       "      <td>0.0</td>\n",
       "      <td>0.0</td>\n",
       "      <td>-0.792381</td>\n",
       "      <td>-0.217639</td>\n",
       "      <td>-0.569683</td>\n",
       "      <td>0.0</td>\n",
       "      <td>-1.074597</td>\n",
       "      <td>1.0</td>\n",
       "    </tr>\n",
       "    <tr>\n",
       "      <th>4</th>\n",
       "      <td>3.0</td>\n",
       "      <td>0.0</td>\n",
       "      <td>0.0</td>\n",
       "      <td>0.0</td>\n",
       "      <td>1.0</td>\n",
       "      <td>0.0</td>\n",
       "      <td>0.0</td>\n",
       "      <td>0.0</td>\n",
       "      <td>0.0</td>\n",
       "      <td>0.0</td>\n",
       "      <td>0.0</td>\n",
       "      <td>0.0</td>\n",
       "      <td>0.0</td>\n",
       "      <td>0.0</td>\n",
       "      <td>-0.184736</td>\n",
       "      <td>1.107167</td>\n",
       "      <td>-0.704668</td>\n",
       "      <td>0.0</td>\n",
       "      <td>-0.967750</td>\n",
       "      <td>0.0</td>\n",
       "    </tr>\n",
       "  </tbody>\n",
       "</table>\n",
       "</div>"
      ],
      "text/plain": [
       "   grade  home_ownership_OWN  home_ownership_RENT  purpose_credit_card  \\\n",
       "0    0.0                 0.0                  1.0                  1.0   \n",
       "1    0.0                 1.0                  0.0                  1.0   \n",
       "2    3.0                 0.0                  0.0                  0.0   \n",
       "3    3.0                 0.0                  0.0                  0.0   \n",
       "4    3.0                 0.0                  0.0                  0.0   \n",
       "\n",
       "   purpose_debt_consolidation  purpose_home_improvement  purpose_house  \\\n",
       "0                         0.0                       0.0            0.0   \n",
       "1                         0.0                       0.0            0.0   \n",
       "2                         1.0                       0.0            0.0   \n",
       "3                         0.0                       0.0            0.0   \n",
       "4                         1.0                       0.0            0.0   \n",
       "\n",
       "   purpose_major_purchase  purpose_medical  purpose_moving  purpose_other  \\\n",
       "0                     0.0              0.0             0.0            0.0   \n",
       "1                     0.0              0.0             0.0            0.0   \n",
       "2                     0.0              0.0             0.0            0.0   \n",
       "3                     0.0              1.0             0.0            0.0   \n",
       "4                     0.0              0.0             0.0            0.0   \n",
       "\n",
       "   purpose_small_business  purpose_vacation  purpose_wedding  annual_inc  \\\n",
       "0                     0.0               0.0              0.0    0.589645   \n",
       "1                     0.0               0.0              0.0    0.213517   \n",
       "2                     0.0               0.0              0.0    0.102891   \n",
       "3                     0.0               0.0              0.0   -0.792381   \n",
       "4                     0.0               0.0              0.0   -0.184736   \n",
       "\n",
       "   emp_length_num       dti  last_delinq_none  revol_util  bad_loan  \n",
       "0       -1.542446  1.281718               1.0   -0.302926       0.0  \n",
       "1       -0.747562 -1.481488               0.0   -0.818165       0.0  \n",
       "2        1.107167  0.246839               1.0   -0.229320       1.0  \n",
       "3       -0.217639 -0.569683               0.0   -1.074597       1.0  \n",
       "4        1.107167 -0.704668               0.0   -0.967750       0.0  "
      ]
     },
     "execution_count": 12,
     "metadata": {},
     "output_type": "execute_result"
    }
   ],
   "source": [
    "# Define the column transformer\n",
    "column_transformer = ColumnTransformer(\n",
    "    transformers=[\n",
    "        # Ordinal Encoding for 'grade'\n",
    "        ('grade_ordinal', OrdinalEncoder(categories=[['A', 'B', 'C', 'D', 'E', 'F', 'G']]), ['grade']),\n",
    "        # One-Hot Encoding for 'home_ownership' and 'purpose'\n",
    "        ('home_ownership_onehot', OneHotEncoder(drop='first'), ['home_ownership']),\n",
    "        ('purpose_onehot', OneHotEncoder(drop='first'), ['purpose']),\n",
    "        # Do not apply transformation to 'term', keep it as is\n",
    "    ],\n",
    "    remainder='passthrough'  # Keep other columns as they are\n",
    ")\n",
    "\n",
    "# Create a pipeline with the column transformer\n",
    "pipeline = Pipeline(steps=[('column_transformer', column_transformer)])\n",
    "\n",
    "# Apply the transformations\n",
    "df_filter = pipeline.fit_transform(df_filter)\n",
    "\n",
    "# Get feature names from OneHotEncoders\n",
    "home_ownership_features = pipeline.named_steps['column_transformer'].transformers_[1][1].get_feature_names_out(['home_ownership'])\n",
    "purpose_features = pipeline.named_steps['column_transformer'].transformers_[2][1].get_feature_names_out(['purpose'])\n",
    "\n",
    "# Combine all feature names and include 'term' as is\n",
    "all_columns = ['grade'] + list(home_ownership_features) + list(purpose_features) + [ 'annual_inc', 'emp_length_num', 'dti', 'last_delinq_none', 'revol_util', 'bad_loan']\n",
    "\n",
    "# Convert the transformed result back to a DataFrame\n",
    "df_filter = pd.DataFrame(df_filter, columns=all_columns)\n",
    "\n",
    "# Display the transformed DataFrame\n",
    "df_filter.head()"
   ]
  },
  {
   "cell_type": "markdown",
   "id": "f33b3c8d",
   "metadata": {
    "papermill": {
     "duration": 0.007429,
     "end_time": "2025-01-18T17:20:59.384207",
     "exception": false,
     "start_time": "2025-01-18T17:20:59.376778",
     "status": "completed"
    },
    "tags": []
   },
   "source": [
    "## Transformation for numerical columns"
   ]
  },
  {
   "cell_type": "code",
   "execution_count": 13,
   "id": "65ca4248",
   "metadata": {
    "execution": {
     "iopub.execute_input": "2025-01-18T17:20:59.400908Z",
     "iopub.status.busy": "2025-01-18T17:20:59.400506Z",
     "iopub.status.idle": "2025-01-18T17:20:59.404972Z",
     "shell.execute_reply": "2025-01-18T17:20:59.403806Z"
    },
    "papermill": {
     "duration": 0.014992,
     "end_time": "2025-01-18T17:20:59.406754",
     "exception": false,
     "start_time": "2025-01-18T17:20:59.391762",
     "status": "completed"
    },
    "tags": []
   },
   "outputs": [],
   "source": [
    "# # Define the transformer for numerical columns\n",
    "# column_transformer = ColumnTransformer(\n",
    "#     transformers=[\n",
    "#         ('log_transform', FunctionTransformer(np.log1p, validate=True), ['annual_inc', 'dti', 'revol_util']),\n",
    "#     ],\n",
    "#     remainder='passthrough'  # Keep other columns (encoded or not) unchanged\n",
    "# )\n",
    "\n",
    "# # Create a pipeline with the column transformer\n",
    "# pipeline = Pipeline(steps=[('column_transformer', column_transformer)])\n",
    "\n",
    "# # Apply the transformations\n",
    "# df_transformed = pipeline.fit_transform(df_filter)\n",
    "\n",
    "# # Convert the transformed result back to a DataFrame\n",
    "# df_filter = pd.DataFrame(df_transformed, columns=df_filter.columns)\n",
    "\n",
    "# # Display the transformed DataFrame\n",
    "# df_filter.head()"
   ]
  },
  {
   "cell_type": "code",
   "execution_count": 14,
   "id": "0401b762",
   "metadata": {
    "execution": {
     "iopub.execute_input": "2025-01-18T17:20:59.423413Z",
     "iopub.status.busy": "2025-01-18T17:20:59.423078Z",
     "iopub.status.idle": "2025-01-18T17:20:59.453370Z",
     "shell.execute_reply": "2025-01-18T17:20:59.452252Z"
    },
    "papermill": {
     "duration": 0.040679,
     "end_time": "2025-01-18T17:20:59.455281",
     "exception": false,
     "start_time": "2025-01-18T17:20:59.414602",
     "status": "completed"
    },
    "tags": []
   },
   "outputs": [
    {
     "data": {
      "text/html": [
       "<div>\n",
       "<style scoped>\n",
       "    .dataframe tbody tr th:only-of-type {\n",
       "        vertical-align: middle;\n",
       "    }\n",
       "\n",
       "    .dataframe tbody tr th {\n",
       "        vertical-align: top;\n",
       "    }\n",
       "\n",
       "    .dataframe thead th {\n",
       "        text-align: right;\n",
       "    }\n",
       "</style>\n",
       "<table border=\"1\" class=\"dataframe\">\n",
       "  <thead>\n",
       "    <tr style=\"text-align: right;\">\n",
       "      <th></th>\n",
       "      <th>grade</th>\n",
       "      <th>home_ownership_OWN</th>\n",
       "      <th>home_ownership_RENT</th>\n",
       "      <th>purpose_credit_card</th>\n",
       "      <th>purpose_debt_consolidation</th>\n",
       "      <th>purpose_home_improvement</th>\n",
       "      <th>purpose_house</th>\n",
       "      <th>purpose_major_purchase</th>\n",
       "      <th>purpose_medical</th>\n",
       "      <th>purpose_moving</th>\n",
       "      <th>purpose_other</th>\n",
       "      <th>purpose_small_business</th>\n",
       "      <th>purpose_vacation</th>\n",
       "      <th>purpose_wedding</th>\n",
       "      <th>annual_inc</th>\n",
       "      <th>emp_length_num</th>\n",
       "      <th>dti</th>\n",
       "      <th>last_delinq_none</th>\n",
       "      <th>revol_util</th>\n",
       "      <th>bad_loan</th>\n",
       "    </tr>\n",
       "  </thead>\n",
       "  <tbody>\n",
       "    <tr>\n",
       "      <th>5743</th>\n",
       "      <td>1.0</td>\n",
       "      <td>0.0</td>\n",
       "      <td>1.0</td>\n",
       "      <td>1.0</td>\n",
       "      <td>0.0</td>\n",
       "      <td>0.0</td>\n",
       "      <td>0.0</td>\n",
       "      <td>0.0</td>\n",
       "      <td>0.0</td>\n",
       "      <td>0.0</td>\n",
       "      <td>0.0</td>\n",
       "      <td>0.0</td>\n",
       "      <td>0.0</td>\n",
       "      <td>0.0</td>\n",
       "      <td>-0.914866</td>\n",
       "      <td>-0.747562</td>\n",
       "      <td>2.092946</td>\n",
       "      <td>1.0</td>\n",
       "      <td>-0.343290</td>\n",
       "      <td>0.0</td>\n",
       "    </tr>\n",
       "    <tr>\n",
       "      <th>5452</th>\n",
       "      <td>3.0</td>\n",
       "      <td>0.0</td>\n",
       "      <td>1.0</td>\n",
       "      <td>0.0</td>\n",
       "      <td>1.0</td>\n",
       "      <td>0.0</td>\n",
       "      <td>0.0</td>\n",
       "      <td>0.0</td>\n",
       "      <td>0.0</td>\n",
       "      <td>0.0</td>\n",
       "      <td>0.0</td>\n",
       "      <td>0.0</td>\n",
       "      <td>0.0</td>\n",
       "      <td>0.0</td>\n",
       "      <td>-0.317487</td>\n",
       "      <td>1.107167</td>\n",
       "      <td>-0.668936</td>\n",
       "      <td>0.0</td>\n",
       "      <td>0.190943</td>\n",
       "      <td>0.0</td>\n",
       "    </tr>\n",
       "    <tr>\n",
       "      <th>2730</th>\n",
       "      <td>3.0</td>\n",
       "      <td>0.0</td>\n",
       "      <td>1.0</td>\n",
       "      <td>0.0</td>\n",
       "      <td>1.0</td>\n",
       "      <td>0.0</td>\n",
       "      <td>0.0</td>\n",
       "      <td>0.0</td>\n",
       "      <td>0.0</td>\n",
       "      <td>0.0</td>\n",
       "      <td>0.0</td>\n",
       "      <td>0.0</td>\n",
       "      <td>0.0</td>\n",
       "      <td>0.0</td>\n",
       "      <td>-0.604516</td>\n",
       "      <td>1.107167</td>\n",
       "      <td>0.310361</td>\n",
       "      <td>0.0</td>\n",
       "      <td>0.383268</td>\n",
       "      <td>0.0</td>\n",
       "    </tr>\n",
       "    <tr>\n",
       "      <th>14617</th>\n",
       "      <td>3.0</td>\n",
       "      <td>0.0</td>\n",
       "      <td>0.0</td>\n",
       "      <td>0.0</td>\n",
       "      <td>0.0</td>\n",
       "      <td>0.0</td>\n",
       "      <td>0.0</td>\n",
       "      <td>0.0</td>\n",
       "      <td>0.0</td>\n",
       "      <td>0.0</td>\n",
       "      <td>1.0</td>\n",
       "      <td>0.0</td>\n",
       "      <td>0.0</td>\n",
       "      <td>0.0</td>\n",
       "      <td>-0.173673</td>\n",
       "      <td>1.107167</td>\n",
       "      <td>0.425494</td>\n",
       "      <td>1.0</td>\n",
       "      <td>-0.896519</td>\n",
       "      <td>0.0</td>\n",
       "    </tr>\n",
       "    <tr>\n",
       "      <th>6447</th>\n",
       "      <td>4.0</td>\n",
       "      <td>0.0</td>\n",
       "      <td>0.0</td>\n",
       "      <td>1.0</td>\n",
       "      <td>0.0</td>\n",
       "      <td>0.0</td>\n",
       "      <td>0.0</td>\n",
       "      <td>0.0</td>\n",
       "      <td>0.0</td>\n",
       "      <td>0.0</td>\n",
       "      <td>0.0</td>\n",
       "      <td>0.0</td>\n",
       "      <td>0.0</td>\n",
       "      <td>0.0</td>\n",
       "      <td>4.461545</td>\n",
       "      <td>-0.747562</td>\n",
       "      <td>-0.520719</td>\n",
       "      <td>1.0</td>\n",
       "      <td>0.190943</td>\n",
       "      <td>0.0</td>\n",
       "    </tr>\n",
       "    <tr>\n",
       "      <th>997</th>\n",
       "      <td>2.0</td>\n",
       "      <td>0.0</td>\n",
       "      <td>0.0</td>\n",
       "      <td>0.0</td>\n",
       "      <td>1.0</td>\n",
       "      <td>0.0</td>\n",
       "      <td>0.0</td>\n",
       "      <td>0.0</td>\n",
       "      <td>0.0</td>\n",
       "      <td>0.0</td>\n",
       "      <td>0.0</td>\n",
       "      <td>0.0</td>\n",
       "      <td>0.0</td>\n",
       "      <td>0.0</td>\n",
       "      <td>0.368393</td>\n",
       "      <td>1.107167</td>\n",
       "      <td>-0.199138</td>\n",
       "      <td>1.0</td>\n",
       "      <td>-0.196079</td>\n",
       "      <td>0.0</td>\n",
       "    </tr>\n",
       "    <tr>\n",
       "      <th>5044</th>\n",
       "      <td>2.0</td>\n",
       "      <td>0.0</td>\n",
       "      <td>0.0</td>\n",
       "      <td>0.0</td>\n",
       "      <td>1.0</td>\n",
       "      <td>0.0</td>\n",
       "      <td>0.0</td>\n",
       "      <td>0.0</td>\n",
       "      <td>0.0</td>\n",
       "      <td>0.0</td>\n",
       "      <td>0.0</td>\n",
       "      <td>0.0</td>\n",
       "      <td>0.0</td>\n",
       "      <td>0.0</td>\n",
       "      <td>-0.295361</td>\n",
       "      <td>-1.807407</td>\n",
       "      <td>1.108356</td>\n",
       "      <td>1.0</td>\n",
       "      <td>-0.184207</td>\n",
       "      <td>1.0</td>\n",
       "    </tr>\n",
       "    <tr>\n",
       "      <th>18421</th>\n",
       "      <td>2.0</td>\n",
       "      <td>1.0</td>\n",
       "      <td>0.0</td>\n",
       "      <td>0.0</td>\n",
       "      <td>1.0</td>\n",
       "      <td>0.0</td>\n",
       "      <td>0.0</td>\n",
       "      <td>0.0</td>\n",
       "      <td>0.0</td>\n",
       "      <td>0.0</td>\n",
       "      <td>0.0</td>\n",
       "      <td>0.0</td>\n",
       "      <td>0.0</td>\n",
       "      <td>0.0</td>\n",
       "      <td>-0.804240</td>\n",
       "      <td>-0.217639</td>\n",
       "      <td>2.096916</td>\n",
       "      <td>1.0</td>\n",
       "      <td>-0.276808</td>\n",
       "      <td>0.0</td>\n",
       "    </tr>\n",
       "    <tr>\n",
       "      <th>1000</th>\n",
       "      <td>3.0</td>\n",
       "      <td>0.0</td>\n",
       "      <td>0.0</td>\n",
       "      <td>0.0</td>\n",
       "      <td>1.0</td>\n",
       "      <td>0.0</td>\n",
       "      <td>0.0</td>\n",
       "      <td>0.0</td>\n",
       "      <td>0.0</td>\n",
       "      <td>0.0</td>\n",
       "      <td>0.0</td>\n",
       "      <td>0.0</td>\n",
       "      <td>0.0</td>\n",
       "      <td>0.0</td>\n",
       "      <td>-0.104974</td>\n",
       "      <td>1.107167</td>\n",
       "      <td>1.732988</td>\n",
       "      <td>0.0</td>\n",
       "      <td>0.409386</td>\n",
       "      <td>0.0</td>\n",
       "    </tr>\n",
       "    <tr>\n",
       "      <th>4311</th>\n",
       "      <td>3.0</td>\n",
       "      <td>0.0</td>\n",
       "      <td>0.0</td>\n",
       "      <td>0.0</td>\n",
       "      <td>0.0</td>\n",
       "      <td>0.0</td>\n",
       "      <td>0.0</td>\n",
       "      <td>0.0</td>\n",
       "      <td>0.0</td>\n",
       "      <td>0.0</td>\n",
       "      <td>0.0</td>\n",
       "      <td>0.0</td>\n",
       "      <td>1.0</td>\n",
       "      <td>0.0</td>\n",
       "      <td>-0.240049</td>\n",
       "      <td>0.312283</td>\n",
       "      <td>0.731194</td>\n",
       "      <td>1.0</td>\n",
       "      <td>0.053230</td>\n",
       "      <td>1.0</td>\n",
       "    </tr>\n",
       "  </tbody>\n",
       "</table>\n",
       "</div>"
      ],
      "text/plain": [
       "       grade  home_ownership_OWN  home_ownership_RENT  purpose_credit_card  \\\n",
       "5743     1.0                 0.0                  1.0                  1.0   \n",
       "5452     3.0                 0.0                  1.0                  0.0   \n",
       "2730     3.0                 0.0                  1.0                  0.0   \n",
       "14617    3.0                 0.0                  0.0                  0.0   \n",
       "6447     4.0                 0.0                  0.0                  1.0   \n",
       "997      2.0                 0.0                  0.0                  0.0   \n",
       "5044     2.0                 0.0                  0.0                  0.0   \n",
       "18421    2.0                 1.0                  0.0                  0.0   \n",
       "1000     3.0                 0.0                  0.0                  0.0   \n",
       "4311     3.0                 0.0                  0.0                  0.0   \n",
       "\n",
       "       purpose_debt_consolidation  purpose_home_improvement  purpose_house  \\\n",
       "5743                          0.0                       0.0            0.0   \n",
       "5452                          1.0                       0.0            0.0   \n",
       "2730                          1.0                       0.0            0.0   \n",
       "14617                         0.0                       0.0            0.0   \n",
       "6447                          0.0                       0.0            0.0   \n",
       "997                           1.0                       0.0            0.0   \n",
       "5044                          1.0                       0.0            0.0   \n",
       "18421                         1.0                       0.0            0.0   \n",
       "1000                          1.0                       0.0            0.0   \n",
       "4311                          0.0                       0.0            0.0   \n",
       "\n",
       "       purpose_major_purchase  purpose_medical  purpose_moving  purpose_other  \\\n",
       "5743                      0.0              0.0             0.0            0.0   \n",
       "5452                      0.0              0.0             0.0            0.0   \n",
       "2730                      0.0              0.0             0.0            0.0   \n",
       "14617                     0.0              0.0             0.0            1.0   \n",
       "6447                      0.0              0.0             0.0            0.0   \n",
       "997                       0.0              0.0             0.0            0.0   \n",
       "5044                      0.0              0.0             0.0            0.0   \n",
       "18421                     0.0              0.0             0.0            0.0   \n",
       "1000                      0.0              0.0             0.0            0.0   \n",
       "4311                      0.0              0.0             0.0            0.0   \n",
       "\n",
       "       purpose_small_business  purpose_vacation  purpose_wedding  annual_inc  \\\n",
       "5743                      0.0               0.0              0.0   -0.914866   \n",
       "5452                      0.0               0.0              0.0   -0.317487   \n",
       "2730                      0.0               0.0              0.0   -0.604516   \n",
       "14617                     0.0               0.0              0.0   -0.173673   \n",
       "6447                      0.0               0.0              0.0    4.461545   \n",
       "997                       0.0               0.0              0.0    0.368393   \n",
       "5044                      0.0               0.0              0.0   -0.295361   \n",
       "18421                     0.0               0.0              0.0   -0.804240   \n",
       "1000                      0.0               0.0              0.0   -0.104974   \n",
       "4311                      0.0               1.0              0.0   -0.240049   \n",
       "\n",
       "       emp_length_num       dti  last_delinq_none  revol_util  bad_loan  \n",
       "5743        -0.747562  2.092946               1.0   -0.343290       0.0  \n",
       "5452         1.107167 -0.668936               0.0    0.190943       0.0  \n",
       "2730         1.107167  0.310361               0.0    0.383268       0.0  \n",
       "14617        1.107167  0.425494               1.0   -0.896519       0.0  \n",
       "6447        -0.747562 -0.520719               1.0    0.190943       0.0  \n",
       "997          1.107167 -0.199138               1.0   -0.196079       0.0  \n",
       "5044        -1.807407  1.108356               1.0   -0.184207       1.0  \n",
       "18421       -0.217639  2.096916               1.0   -0.276808       0.0  \n",
       "1000         1.107167  1.732988               0.0    0.409386       0.0  \n",
       "4311         0.312283  0.731194               1.0    0.053230       1.0  "
      ]
     },
     "execution_count": 14,
     "metadata": {},
     "output_type": "execute_result"
    }
   ],
   "source": [
    "df_filter.sample(10)"
   ]
  },
  {
   "cell_type": "markdown",
   "id": "0393e4a8",
   "metadata": {
    "papermill": {
     "duration": 0.007933,
     "end_time": "2025-01-18T17:20:59.471812",
     "exception": false,
     "start_time": "2025-01-18T17:20:59.463879",
     "status": "completed"
    },
    "tags": []
   },
   "source": [
    "## Models Train"
   ]
  },
  {
   "cell_type": "code",
   "execution_count": 15,
   "id": "61a9838f",
   "metadata": {
    "execution": {
     "iopub.execute_input": "2025-01-18T17:20:59.489443Z",
     "iopub.status.busy": "2025-01-18T17:20:59.489049Z",
     "iopub.status.idle": "2025-01-18T17:20:59.493549Z",
     "shell.execute_reply": "2025-01-18T17:20:59.492418Z"
    },
    "papermill": {
     "duration": 0.015741,
     "end_time": "2025-01-18T17:20:59.495589",
     "exception": false,
     "start_time": "2025-01-18T17:20:59.479848",
     "status": "completed"
    },
    "tags": []
   },
   "outputs": [],
   "source": [
    "\n",
    "# # Separate features and target\n",
    "# X = df_transformed.drop(columns=['bad_loan'])  # Features (exclude the target column)\n",
    "# y = df_transformed['bad_loan']  # Target\n",
    "\n",
    "# # Split the data into training and testing sets\n",
    "# X_train, X_test, y_train, y_test = train_test_split(X, y, test_size=0.2, random_state=42)\n",
    "\n",
    "# # Initialize the Gradient Boosting Classifier\n",
    "# gbc = GradientBoostingClassifier(n_estimators=100, learning_rate=0.1, max_depth=3, random_state=42)\n",
    "\n",
    "# # Train the model\n",
    "# gbc.fit(X_train, y_train)\n",
    "\n",
    "# # Make predictions\n",
    "# y_pred = gbc.predict(X_test)\n",
    "\n",
    "# # Evaluate the model\n",
    "# accuracy = accuracy_score(y_test, y_pred)\n",
    "# print(\"Accuracy:\", accuracy)"
   ]
  },
  {
   "cell_type": "code",
   "execution_count": 16,
   "id": "f793d4ee",
   "metadata": {
    "execution": {
     "iopub.execute_input": "2025-01-18T17:20:59.513815Z",
     "iopub.status.busy": "2025-01-18T17:20:59.513356Z",
     "iopub.status.idle": "2025-01-18T17:20:59.517617Z",
     "shell.execute_reply": "2025-01-18T17:20:59.516504Z"
    },
    "papermill": {
     "duration": 0.015305,
     "end_time": "2025-01-18T17:20:59.519589",
     "exception": false,
     "start_time": "2025-01-18T17:20:59.504284",
     "status": "completed"
    },
    "tags": []
   },
   "outputs": [],
   "source": [
    "# from sklearn.ensemble import RandomForestClassifier\n",
    "# # Separate features and target\n",
    "# X = df_transformed.drop(columns=['bad_loan'])  # Features (exclude the target column)\n",
    "# y = df_transformed['bad_loan']  # Target\n",
    "\n",
    "# # Split the data into training and testing sets\n",
    "# X_train, X_test, y_train, y_test = train_test_split(X, y, test_size=0.2, random_state=42)\n",
    "\n",
    "# # Initialize the Random Forest Classifier\n",
    "# rf = RandomForestClassifier(n_estimators=100, random_state=42)\n",
    "\n",
    "# # Train the model\n",
    "# rf.fit(X_train, y_train)\n",
    "\n",
    "# # Make predictions\n",
    "# y_pred = rf.predict(X_test)\n",
    "\n",
    "# # Evaluate the model\n",
    "# accuracy = accuracy_score(y_test, y_pred)\n",
    "# print(\"Accuracy:\", accuracy)\n"
   ]
  },
  {
   "cell_type": "markdown",
   "id": "bf99f6e1",
   "metadata": {
    "papermill": {
     "duration": 0.008201,
     "end_time": "2025-01-18T17:20:59.536342",
     "exception": false,
     "start_time": "2025-01-18T17:20:59.528141",
     "status": "completed"
    },
    "tags": []
   },
   "source": [
    "## Accuracy: 0.80% LogisticRegression "
   ]
  },
  {
   "cell_type": "code",
   "execution_count": 17,
   "id": "4e2a6e2f",
   "metadata": {
    "execution": {
     "iopub.execute_input": "2025-01-18T17:20:59.554140Z",
     "iopub.status.busy": "2025-01-18T17:20:59.553774Z",
     "iopub.status.idle": "2025-01-18T17:20:59.989373Z",
     "shell.execute_reply": "2025-01-18T17:20:59.985319Z"
    },
    "papermill": {
     "duration": 0.448703,
     "end_time": "2025-01-18T17:20:59.993159",
     "exception": false,
     "start_time": "2025-01-18T17:20:59.544456",
     "status": "completed"
    },
    "tags": []
   },
   "outputs": [
    {
     "name": "stdout",
     "output_type": "stream",
     "text": [
      "Accuracy: 0.80075\n"
     ]
    },
    {
     "name": "stderr",
     "output_type": "stream",
     "text": [
      "/usr/local/lib/python3.10/dist-packages/sklearn/linear_model/_logistic.py:458: ConvergenceWarning: lbfgs failed to converge (status=1):\n",
      "STOP: TOTAL NO. of ITERATIONS REACHED LIMIT.\n",
      "\n",
      "Increase the number of iterations (max_iter) or scale the data as shown in:\n",
      "    https://scikit-learn.org/stable/modules/preprocessing.html\n",
      "Please also refer to the documentation for alternative solver options:\n",
      "    https://scikit-learn.org/stable/modules/linear_model.html#logistic-regression\n",
      "  n_iter_i = _check_optimize_result(\n"
     ]
    }
   ],
   "source": [
    "# Separate features and target\n",
    "X = df_filter.drop(columns=['bad_loan'])  # Features (exclude the target column)\n",
    "y = df_filter['bad_loan']  # Target\n",
    "\n",
    "# Split the data into training and testing sets\n",
    "X_train, X_test, y_train, y_test = train_test_split(X, y, test_size=0.2, random_state=42)\n",
    "\n",
    "# Initialize the Logistic Regression model\n",
    "log_reg = LogisticRegression(random_state=42)\n",
    "\n",
    "# Train the model\n",
    "log_reg.fit(X_train, y_train)\n",
    "\n",
    "# Make predictions\n",
    "y_pred = log_reg.predict(X_test)\n",
    "\n",
    "# Evaluate the model\n",
    "accuracy = accuracy_score(y_test, y_pred)\n",
    "print(\"Accuracy:\", accuracy)\n"
   ]
  },
  {
   "cell_type": "code",
   "execution_count": 18,
   "id": "822bdce1",
   "metadata": {
    "execution": {
     "iopub.execute_input": "2025-01-18T17:21:00.048906Z",
     "iopub.status.busy": "2025-01-18T17:21:00.047790Z",
     "iopub.status.idle": "2025-01-18T17:21:01.391618Z",
     "shell.execute_reply": "2025-01-18T17:21:01.390240Z"
    },
    "papermill": {
     "duration": 1.373781,
     "end_time": "2025-01-18T17:21:01.395162",
     "exception": false,
     "start_time": "2025-01-18T17:21:00.021381",
     "status": "completed"
    },
    "tags": []
   },
   "outputs": [
    {
     "name": "stderr",
     "output_type": "stream",
     "text": [
      "/usr/local/lib/python3.10/dist-packages/sklearn/linear_model/_logistic.py:458: ConvergenceWarning: lbfgs failed to converge (status=1):\n",
      "STOP: TOTAL NO. of ITERATIONS REACHED LIMIT.\n",
      "\n",
      "Increase the number of iterations (max_iter) or scale the data as shown in:\n",
      "    https://scikit-learn.org/stable/modules/preprocessing.html\n",
      "Please also refer to the documentation for alternative solver options:\n",
      "    https://scikit-learn.org/stable/modules/linear_model.html#logistic-regression\n",
      "  n_iter_i = _check_optimize_result(\n",
      "/usr/local/lib/python3.10/dist-packages/sklearn/linear_model/_logistic.py:458: ConvergenceWarning: lbfgs failed to converge (status=1):\n",
      "STOP: TOTAL NO. of ITERATIONS REACHED LIMIT.\n",
      "\n",
      "Increase the number of iterations (max_iter) or scale the data as shown in:\n",
      "    https://scikit-learn.org/stable/modules/preprocessing.html\n",
      "Please also refer to the documentation for alternative solver options:\n",
      "    https://scikit-learn.org/stable/modules/linear_model.html#logistic-regression\n",
      "  n_iter_i = _check_optimize_result(\n"
     ]
    },
    {
     "name": "stdout",
     "output_type": "stream",
     "text": [
      "Cross-validation scores: [0.79925 0.801   0.79975 0.8     0.80225]\n",
      "Mean cross-validation score: 0.80045\n"
     ]
    },
    {
     "name": "stderr",
     "output_type": "stream",
     "text": [
      "/usr/local/lib/python3.10/dist-packages/sklearn/linear_model/_logistic.py:458: ConvergenceWarning: lbfgs failed to converge (status=1):\n",
      "STOP: TOTAL NO. of ITERATIONS REACHED LIMIT.\n",
      "\n",
      "Increase the number of iterations (max_iter) or scale the data as shown in:\n",
      "    https://scikit-learn.org/stable/modules/preprocessing.html\n",
      "Please also refer to the documentation for alternative solver options:\n",
      "    https://scikit-learn.org/stable/modules/linear_model.html#logistic-regression\n",
      "  n_iter_i = _check_optimize_result(\n"
     ]
    }
   ],
   "source": [
    "from sklearn.model_selection import cross_val_score\n",
    "\n",
    "cv_scores = cross_val_score(log_reg, X, y, cv=5)  # 5-fold cross-validation\n",
    "print(\"Cross-validation scores:\", cv_scores)\n",
    "print(\"Mean cross-validation score:\", cv_scores.mean())"
   ]
  },
  {
   "cell_type": "markdown",
   "id": "2761c8b8",
   "metadata": {
    "papermill": {
     "duration": 0.024267,
     "end_time": "2025-01-18T17:21:01.444027",
     "exception": false,
     "start_time": "2025-01-18T17:21:01.419760",
     "status": "completed"
    },
    "tags": []
   },
   "source": [
    "## Accuracy: 0.79% RandomForestClassifier"
   ]
  },
  {
   "cell_type": "markdown",
   "id": "d189eff6",
   "metadata": {
    "papermill": {
     "duration": 0.024214,
     "end_time": "2025-01-18T17:21:01.492609",
     "exception": false,
     "start_time": "2025-01-18T17:21:01.468395",
     "status": "completed"
    },
    "tags": []
   },
   "source": [
    "## Accuracy: 0.80% Algorithm GradientBoostingClassifier\n"
   ]
  },
  {
   "cell_type": "code",
   "execution_count": 19,
   "id": "14345a68",
   "metadata": {
    "execution": {
     "iopub.execute_input": "2025-01-18T17:21:01.515390Z",
     "iopub.status.busy": "2025-01-18T17:21:01.515038Z",
     "iopub.status.idle": "2025-01-18T17:21:05.907264Z",
     "shell.execute_reply": "2025-01-18T17:21:05.905914Z"
    },
    "papermill": {
     "duration": 4.404095,
     "end_time": "2025-01-18T17:21:05.909481",
     "exception": false,
     "start_time": "2025-01-18T17:21:01.505386",
     "status": "completed"
    },
    "tags": []
   },
   "outputs": [
    {
     "data": {
      "image/png": "[encoded data removed]",
      "text/plain": [
       "<Figure size 800x600 with 1 Axes>"
      ]
     },
     "metadata": {},
     "output_type": "display_data"
    }
   ],
   "source": [
    "# Initialize the Logistic Regression model\n",
    "log_reg = LogisticRegression(random_state=42)\n",
    "\n",
    "# Generate learning curves\n",
    "train_sizes, train_scores, test_scores = learning_curve(log_reg, X, y, cv=5, n_jobs=-1, train_sizes=[0.1, 0.2, 0.3, 0.4, 0.5, 0.6, 0.7, 0.8, 0.9, 1.0])\n",
    "\n",
    "# Calculate mean and standard deviation of scores\n",
    "train_mean = train_scores.mean(axis=1)\n",
    "test_mean = test_scores.mean(axis=1)\n",
    "train_std = train_scores.std(axis=1)\n",
    "test_std = test_scores.std(axis=1)\n",
    "\n",
    "# Plot the learning curves\n",
    "plt.figure(figsize=(8, 6))\n",
    "plt.plot(train_sizes, train_mean, label='Training Accuracy', color='blue')\n",
    "plt.plot(train_sizes, test_mean, label='Testing Accuracy', color='red')\n",
    "\n",
    "# Plot the fill between the curves for standard deviation\n",
    "plt.fill_between(train_sizes, train_mean - train_std, train_mean + train_std, color='blue', alpha=0.2)\n",
    "plt.fill_between(train_sizes, test_mean - test_std, test_mean + test_std, color='red', alpha=0.2)\n",
    "\n",
    "# Adding labels and title\n",
    "plt.title(\"Learning Curves (Training vs Testing Accuracy)\")\n",
    "plt.xlabel(\"Training Set Size\")\n",
    "plt.ylabel(\"Accuracy\")\n",
    "plt.legend()\n",
    "\n",
    "# Show the plot\n",
    "plt.show()\n"
   ]
  },
  {
   "cell_type": "code",
   "execution_count": 20,
   "id": "4a68d1d9",
   "metadata": {
    "execution": {
     "iopub.execute_input": "2025-01-18T17:21:05.930932Z",
     "iopub.status.busy": "2025-01-18T17:21:05.930526Z",
     "iopub.status.idle": "2025-01-18T17:21:05.935322Z",
     "shell.execute_reply": "2025-01-18T17:21:05.934233Z"
    },
    "papermill": {
     "duration": 0.018136,
     "end_time": "2025-01-18T17:21:05.937484",
     "exception": false,
     "start_time": "2025-01-18T17:21:05.919348",
     "status": "completed"
    },
    "tags": []
   },
   "outputs": [],
   "source": [
    "log_reg = LogisticRegression(penalty='l2', C=1, random_state=42)\n"
   ]
  },
  {
   "cell_type": "code",
   "execution_count": 21,
   "id": "4dde55f3",
   "metadata": {
    "execution": {
     "iopub.execute_input": "2025-01-18T17:21:05.958475Z",
     "iopub.status.busy": "2025-01-18T17:21:05.958134Z",
     "iopub.status.idle": "2025-01-18T17:21:06.199114Z",
     "shell.execute_reply": "2025-01-18T17:21:06.196650Z"
    },
    "papermill": {
     "duration": 0.255104,
     "end_time": "2025-01-18T17:21:06.202495",
     "exception": false,
     "start_time": "2025-01-18T17:21:05.947391",
     "status": "completed"
    },
    "tags": []
   },
   "outputs": [
    {
     "name": "stdout",
     "output_type": "stream",
     "text": [
      "Accuracy after applying regularization: 0.80075\n"
     ]
    },
    {
     "name": "stderr",
     "output_type": "stream",
     "text": [
      "/usr/local/lib/python3.10/dist-packages/sklearn/linear_model/_logistic.py:458: ConvergenceWarning: lbfgs failed to converge (status=1):\n",
      "STOP: TOTAL NO. of ITERATIONS REACHED LIMIT.\n",
      "\n",
      "Increase the number of iterations (max_iter) or scale the data as shown in:\n",
      "    https://scikit-learn.org/stable/modules/preprocessing.html\n",
      "Please also refer to the documentation for alternative solver options:\n",
      "    https://scikit-learn.org/stable/modules/linear_model.html#logistic-regression\n",
      "  n_iter_i = _check_optimize_result(\n"
     ]
    }
   ],
   "source": [
    "# Train the model\n",
    "log_reg.fit(X_train, y_train)\n",
    "\n",
    "# Make predictions\n",
    "y_pred = log_reg.predict(X_test)\n",
    "\n",
    "# Evaluate the model\n",
    "accuracy = accuracy_score(y_test, y_pred)\n",
    "print(\"Accuracy after applying regularization:\", accuracy)\n"
   ]
  }
 ],
 "metadata": {
  "kaggle": {
   "accelerator": "none",
   "dataSources": [
    {
     "datasetId": 1981679,
     "sourceId": 3271421,
     "sourceType": "datasetVersion"
    }
   ],
   "dockerImageVersionId": 30822,
   "isGpuEnabled": false,
   "isInternetEnabled": true,
   "language": "python",
   "sourceType": "notebook"
  },
  "kernelspec": {
   "display_name": "Python 3",
   "language": "python",
   "name": "python3"
  },
  "language_info": {
   "codemirror_mode": {
    "name": "ipython",
    "version": 3
   },
   "file_extension": ".py",
   "mimetype": "text/x-python",
   "name": "python",
   "nbconvert_exporter": "python",
   "pygments_lexer": "ipython3",
   "version": "3.10.12"
  },
  "papermill": {
   "default_parameters": {},
   "duration": 14.761126,
   "end_time": "2025-01-18T17:21:07.059896",
   "environment_variables": {},
   "exception": null,
   "input_path": "__notebook__.ipynb",
   "output_path": "__notebook__.ipynb",
   "parameters": {},
   "start_time": "2025-01-18T17:20:52.298770",
   "version": "2.6.0"
  }
 },
 "nbformat": 4,
 "nbformat_minor": 5
}
